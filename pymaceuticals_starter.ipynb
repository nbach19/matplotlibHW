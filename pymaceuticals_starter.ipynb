{
 "cells": [
  {
   "cell_type": "markdown",
   "metadata": {},
   "source": [
    "## Observations and Insights"
   ]
  },
  {
   "cell_type": "markdown",
   "metadata": {},
   "source": []
  },
  {
   "cell_type": "markdown",
   "metadata": {},
   "source": [
    "## Dependencies and starter code"
   ]
  },
  {
   "cell_type": "code",
   "execution_count": 1,
   "metadata": {},
   "outputs": [],
   "source": [
    "# Dependencies and Setup\n",
    "import matplotlib.pyplot as plt\n",
    "import pandas as pd\n",
    "import numpy as np\n",
    "import scipy.stats as st\n",
    "from scipy.stats import linregress\n",
    "\n",
    "# Study data files\n",
    "mouse_metadata = \"data/Mouse_metadata.csv\"\n",
    "study_results = \"data/Study_results.csv\"\n",
    "\n",
    "# Read the mouse data and the study results\n",
    "mouse_metadata = pd.read_csv(mouse_metadata)\n",
    "study_results = pd.read_csv(study_results)\n",
    "\n"
   ]
  },
  {
   "cell_type": "code",
   "execution_count": 2,
   "metadata": {},
   "outputs": [
    {
     "data": {
      "text/html": [
       "<div>\n",
       "<style scoped>\n",
       "    .dataframe tbody tr th:only-of-type {\n",
       "        vertical-align: middle;\n",
       "    }\n",
       "\n",
       "    .dataframe tbody tr th {\n",
       "        vertical-align: top;\n",
       "    }\n",
       "\n",
       "    .dataframe thead th {\n",
       "        text-align: right;\n",
       "    }\n",
       "</style>\n",
       "<table border=\"1\" class=\"dataframe\">\n",
       "  <thead>\n",
       "    <tr style=\"text-align: right;\">\n",
       "      <th></th>\n",
       "      <th>Mouse ID</th>\n",
       "      <th>Drug Regimen</th>\n",
       "      <th>Sex</th>\n",
       "      <th>Age_months</th>\n",
       "      <th>Weight (g)</th>\n",
       "      <th>Timepoint</th>\n",
       "      <th>Tumor Volume (mm3)</th>\n",
       "      <th>Metastatic Sites</th>\n",
       "    </tr>\n",
       "  </thead>\n",
       "  <tbody>\n",
       "    <tr>\n",
       "      <th>0</th>\n",
       "      <td>k403</td>\n",
       "      <td>Ramicane</td>\n",
       "      <td>Male</td>\n",
       "      <td>21</td>\n",
       "      <td>16</td>\n",
       "      <td>0</td>\n",
       "      <td>45.000000</td>\n",
       "      <td>0</td>\n",
       "    </tr>\n",
       "    <tr>\n",
       "      <th>1</th>\n",
       "      <td>k403</td>\n",
       "      <td>Ramicane</td>\n",
       "      <td>Male</td>\n",
       "      <td>21</td>\n",
       "      <td>16</td>\n",
       "      <td>5</td>\n",
       "      <td>38.825898</td>\n",
       "      <td>0</td>\n",
       "    </tr>\n",
       "    <tr>\n",
       "      <th>2</th>\n",
       "      <td>k403</td>\n",
       "      <td>Ramicane</td>\n",
       "      <td>Male</td>\n",
       "      <td>21</td>\n",
       "      <td>16</td>\n",
       "      <td>10</td>\n",
       "      <td>35.014271</td>\n",
       "      <td>1</td>\n",
       "    </tr>\n",
       "    <tr>\n",
       "      <th>3</th>\n",
       "      <td>k403</td>\n",
       "      <td>Ramicane</td>\n",
       "      <td>Male</td>\n",
       "      <td>21</td>\n",
       "      <td>16</td>\n",
       "      <td>15</td>\n",
       "      <td>34.223992</td>\n",
       "      <td>1</td>\n",
       "    </tr>\n",
       "    <tr>\n",
       "      <th>4</th>\n",
       "      <td>k403</td>\n",
       "      <td>Ramicane</td>\n",
       "      <td>Male</td>\n",
       "      <td>21</td>\n",
       "      <td>16</td>\n",
       "      <td>20</td>\n",
       "      <td>32.997729</td>\n",
       "      <td>1</td>\n",
       "    </tr>\n",
       "  </tbody>\n",
       "</table>\n",
       "</div>"
      ],
      "text/plain": [
       "  Mouse ID Drug Regimen   Sex  Age_months  Weight (g)  Timepoint  \\\n",
       "0     k403     Ramicane  Male          21          16          0   \n",
       "1     k403     Ramicane  Male          21          16          5   \n",
       "2     k403     Ramicane  Male          21          16         10   \n",
       "3     k403     Ramicane  Male          21          16         15   \n",
       "4     k403     Ramicane  Male          21          16         20   \n",
       "\n",
       "   Tumor Volume (mm3)  Metastatic Sites  \n",
       "0           45.000000                 0  \n",
       "1           38.825898                 0  \n",
       "2           35.014271                 1  \n",
       "3           34.223992                 1  \n",
       "4           32.997729                 1  "
      ]
     },
     "execution_count": 2,
     "metadata": {},
     "output_type": "execute_result"
    }
   ],
   "source": [
    "# Combine the data into a single dataset\n",
    "# mouse_metadata.head()\n",
    "# study_results.head()\n",
    "combined = pd.merge(mouse_metadata, study_results, on=\"Mouse ID\")\n",
    "combined.head()"
   ]
  },
  {
   "cell_type": "markdown",
   "metadata": {},
   "source": [
    "## Summary statistics"
   ]
  },
  {
   "cell_type": "code",
   "execution_count": 3,
   "metadata": {},
   "outputs": [
    {
     "data": {
      "text/html": [
       "<div>\n",
       "<style scoped>\n",
       "    .dataframe tbody tr th:only-of-type {\n",
       "        vertical-align: middle;\n",
       "    }\n",
       "\n",
       "    .dataframe tbody tr th {\n",
       "        vertical-align: top;\n",
       "    }\n",
       "\n",
       "    .dataframe thead th {\n",
       "        text-align: right;\n",
       "    }\n",
       "</style>\n",
       "<table border=\"1\" class=\"dataframe\">\n",
       "  <thead>\n",
       "    <tr style=\"text-align: right;\">\n",
       "      <th></th>\n",
       "      <th>Mean Tumor Vol</th>\n",
       "      <th>Median Tumor Vol</th>\n",
       "      <th>Tumor Vol Variance</th>\n",
       "      <th>Tumor Vol Std Dev</th>\n",
       "      <th>Tumor Vol SEM</th>\n",
       "    </tr>\n",
       "    <tr>\n",
       "      <th>Drug Regimen</th>\n",
       "      <th></th>\n",
       "      <th></th>\n",
       "      <th></th>\n",
       "      <th></th>\n",
       "      <th></th>\n",
       "    </tr>\n",
       "  </thead>\n",
       "  <tbody>\n",
       "    <tr>\n",
       "      <th>Capomulin</th>\n",
       "      <td>40.675741</td>\n",
       "      <td>41.557809</td>\n",
       "      <td>24.947764</td>\n",
       "      <td>4.994774</td>\n",
       "      <td>0.329346</td>\n",
       "    </tr>\n",
       "    <tr>\n",
       "      <th>Ceftamin</th>\n",
       "      <td>52.591172</td>\n",
       "      <td>51.776157</td>\n",
       "      <td>39.290177</td>\n",
       "      <td>6.268188</td>\n",
       "      <td>0.469821</td>\n",
       "    </tr>\n",
       "    <tr>\n",
       "      <th>Infubinol</th>\n",
       "      <td>52.884795</td>\n",
       "      <td>51.820584</td>\n",
       "      <td>43.128684</td>\n",
       "      <td>6.567243</td>\n",
       "      <td>0.492236</td>\n",
       "    </tr>\n",
       "    <tr>\n",
       "      <th>Ketapril</th>\n",
       "      <td>55.235638</td>\n",
       "      <td>53.698743</td>\n",
       "      <td>68.553577</td>\n",
       "      <td>8.279709</td>\n",
       "      <td>0.603860</td>\n",
       "    </tr>\n",
       "    <tr>\n",
       "      <th>Naftisol</th>\n",
       "      <td>54.331565</td>\n",
       "      <td>52.509285</td>\n",
       "      <td>66.173479</td>\n",
       "      <td>8.134708</td>\n",
       "      <td>0.596466</td>\n",
       "    </tr>\n",
       "    <tr>\n",
       "      <th>Placebo</th>\n",
       "      <td>54.033581</td>\n",
       "      <td>52.288934</td>\n",
       "      <td>61.168083</td>\n",
       "      <td>7.821003</td>\n",
       "      <td>0.581331</td>\n",
       "    </tr>\n",
       "    <tr>\n",
       "      <th>Propriva</th>\n",
       "      <td>52.322552</td>\n",
       "      <td>50.854632</td>\n",
       "      <td>42.351070</td>\n",
       "      <td>6.507770</td>\n",
       "      <td>0.512884</td>\n",
       "    </tr>\n",
       "    <tr>\n",
       "      <th>Ramicane</th>\n",
       "      <td>40.216745</td>\n",
       "      <td>40.673236</td>\n",
       "      <td>23.486704</td>\n",
       "      <td>4.846308</td>\n",
       "      <td>0.320955</td>\n",
       "    </tr>\n",
       "    <tr>\n",
       "      <th>Stelasyn</th>\n",
       "      <td>54.233149</td>\n",
       "      <td>52.431737</td>\n",
       "      <td>59.450562</td>\n",
       "      <td>7.710419</td>\n",
       "      <td>0.573111</td>\n",
       "    </tr>\n",
       "    <tr>\n",
       "      <th>Zoniferol</th>\n",
       "      <td>53.236507</td>\n",
       "      <td>51.818479</td>\n",
       "      <td>48.533355</td>\n",
       "      <td>6.966589</td>\n",
       "      <td>0.516398</td>\n",
       "    </tr>\n",
       "  </tbody>\n",
       "</table>\n",
       "</div>"
      ],
      "text/plain": [
       "              Mean Tumor Vol  Median Tumor Vol  Tumor Vol Variance  \\\n",
       "Drug Regimen                                                         \n",
       "Capomulin          40.675741         41.557809           24.947764   \n",
       "Ceftamin           52.591172         51.776157           39.290177   \n",
       "Infubinol          52.884795         51.820584           43.128684   \n",
       "Ketapril           55.235638         53.698743           68.553577   \n",
       "Naftisol           54.331565         52.509285           66.173479   \n",
       "Placebo            54.033581         52.288934           61.168083   \n",
       "Propriva           52.322552         50.854632           42.351070   \n",
       "Ramicane           40.216745         40.673236           23.486704   \n",
       "Stelasyn           54.233149         52.431737           59.450562   \n",
       "Zoniferol          53.236507         51.818479           48.533355   \n",
       "\n",
       "              Tumor Vol Std Dev  Tumor Vol SEM  \n",
       "Drug Regimen                                    \n",
       "Capomulin              4.994774       0.329346  \n",
       "Ceftamin               6.268188       0.469821  \n",
       "Infubinol              6.567243       0.492236  \n",
       "Ketapril               8.279709       0.603860  \n",
       "Naftisol               8.134708       0.596466  \n",
       "Placebo                7.821003       0.581331  \n",
       "Propriva               6.507770       0.512884  \n",
       "Ramicane               4.846308       0.320955  \n",
       "Stelasyn               7.710419       0.573111  \n",
       "Zoniferol              6.966589       0.516398  "
      ]
     },
     "execution_count": 3,
     "metadata": {},
     "output_type": "execute_result"
    }
   ],
   "source": [
    "# Generate a summary statistics table of mean, median, variance, standard deviation, and SEM of the tumor volume for each regimen\n",
    "\n",
    "# group combined set by drug regimen\n",
    "drug_groups = combined.groupby(\"Drug Regimen\")\n",
    "\n",
    "# create new DF with variables to calculate above values\n",
    "summary_table = pd.DataFrame({\n",
    "    \"Mean Tumor Vol\": drug_groups[\"Tumor Volume (mm3)\"].mean(),\n",
    "    \"Median Tumor Vol\": drug_groups[\"Tumor Volume (mm3)\"].median(),\n",
    "    \"Tumor Vol Variance\": drug_groups[\"Tumor Volume (mm3)\"].var(),\n",
    "    \"Tumor Vol Std Dev\": drug_groups[\"Tumor Volume (mm3)\"].std(),\n",
    "    \"Tumor Vol SEM\": drug_groups[\"Tumor Volume (mm3)\"].sem()\n",
    "})\n",
    "\n",
    "# print DF\n",
    "summary_table"
   ]
  },
  {
   "cell_type": "markdown",
   "metadata": {},
   "source": [
    "## Bar plots"
   ]
  },
  {
   "cell_type": "code",
   "execution_count": 4,
   "metadata": {},
   "outputs": [
    {
     "data": {
      "text/plain": [
       "Capomulin    230\n",
       "Ramicane     228\n",
       "Ketapril     188\n",
       "Naftisol     186\n",
       "Zoniferol    182\n",
       "Placebo      181\n",
       "Stelasyn     181\n",
       "Infubinol    178\n",
       "Ceftamin     178\n",
       "Propriva     161\n",
       "Name: Drug Regimen, dtype: int64"
      ]
     },
     "execution_count": 4,
     "metadata": {},
     "output_type": "execute_result"
    }
   ],
   "source": [
    "# Generate a bar plot showing number of data points for each treatment regimen using pandas\n",
    "counts = combined['Drug Regimen'].value_counts()\n",
    "counts\n"
   ]
  },
  {
   "cell_type": "code",
   "execution_count": 5,
   "metadata": {},
   "outputs": [
    {
     "data": {
      "text/plain": [
       "<matplotlib.axes._subplots.AxesSubplot at 0x1c508f453c8>"
      ]
     },
     "execution_count": 5,
     "metadata": {},
     "output_type": "execute_result"
    },
    {
     "data": {
      "image/png": "[encoded data removed]",
      "text/plain": [
       "<Figure size 432x288 with 1 Axes>"
      ]
     },
     "metadata": {
      "needs_background": "light"
     },
     "output_type": "display_data"
    }
   ],
   "source": [
    "#creates graph\n",
    "counts.plot.bar(rot=45)"
   ]
  },
  {
   "cell_type": "code",
   "execution_count": 6,
   "metadata": {},
   "outputs": [
    {
     "data": {
      "text/plain": [
       "([<matplotlib.axis.XTick at 0x1c50930b7c8>,\n",
       "  <matplotlib.axis.XTick at 0x1c50930ff48>,\n",
       "  <matplotlib.axis.XTick at 0x1c50930fb08>,\n",
       "  <matplotlib.axis.XTick at 0x1c5093589c8>,\n",
       "  <matplotlib.axis.XTick at 0x1c50935d088>,\n",
       "  <matplotlib.axis.XTick at 0x1c50935d7c8>,\n",
       "  <matplotlib.axis.XTick at 0x1c50935dbc8>,\n",
       "  <matplotlib.axis.XTick at 0x1c5093614c8>,\n",
       "  <matplotlib.axis.XTick at 0x1c5093660c8>,\n",
       "  <matplotlib.axis.XTick at 0x1c509366b48>],\n",
       " <a list of 10 Text xticklabel objects>)"
      ]
     },
     "execution_count": 6,
     "metadata": {},
     "output_type": "execute_result"
    },
    {
     "data": {
      "image/png": "[encoded data removed]",
      "text/plain": [
       "<Figure size 432x288 with 1 Axes>"
      ]
     },
     "metadata": {
      "needs_background": "light"
     },
     "output_type": "display_data"
    }
   ],
   "source": [
    "# Generate a bar plot showing number of data points for each treatment regimen using pyplot\n",
    "drug_name = [\"Capomulin\",\"Ramicane\",\"Ketapril\",\"Naftisol\",\"Zoniferol\",\"Stelasyn\",\"Placebo\",\"Infubinol\",\"Ceftamin\",\"Propriva\"]\n",
    "drug_adm = [230,228,188,186,182,181,181,178,178,161]\n",
    "x_axis = np.arange(len(drug_adm))\n",
    "plt.bar(x_axis, drug_adm)\n",
    "\n",
    "# create title and labels\n",
    "plt.title(\"Drug Regimen\")\n",
    "plt.ylabel(\"Num. of Times Administered\")\n",
    "plt.xlabel(\"Drug Name\")\n",
    "tick_locations = [value for value in x_axis]\n",
    "plt.xticks(tick_locations, drug_name, rotation=45)"
   ]
  },
  {
   "cell_type": "markdown",
   "metadata": {},
   "source": [
    "## Pie plots"
   ]
  },
  {
   "cell_type": "code",
   "execution_count": 7,
   "metadata": {},
   "outputs": [
    {
     "data": {
      "text/plain": [
       "Male      958\n",
       "Female    935\n",
       "Name: Sex, dtype: int64"
      ]
     },
     "execution_count": 7,
     "metadata": {},
     "output_type": "execute_result"
    }
   ],
   "source": [
    "# Generate a pie plot showing the distribution of female versus male mice using pandas\n",
    "sex_counts = combined['Sex'].value_counts()\n",
    "sex_counts"
   ]
  },
  {
   "cell_type": "code",
   "execution_count": 8,
   "metadata": {},
   "outputs": [
    {
     "data": {
      "text/plain": [
       "<matplotlib.axes._subplots.AxesSubplot at 0x1c509310188>"
      ]
     },
     "execution_count": 8,
     "metadata": {},
     "output_type": "execute_result"
    },
    {
     "data": {
      "image/png": "[encoded data removed]",
      "text/plain": [
       "<Figure size 432x288 with 1 Axes>"
      ]
     },
     "metadata": {},
     "output_type": "display_data"
    }
   ],
   "source": [
    "sex_counts.plot.pie()"
   ]
  },
  {
   "cell_type": "code",
   "execution_count": 9,
   "metadata": {},
   "outputs": [],
   "source": [
    "# Generate a pie plot showing the distribution of female versus male mice using pyplot\n",
    "# build data for chart\n",
    "sex = [\"Male\",\"Female\"]\n",
    "sex_num = [958,935]\n",
    "colors = [\"blue\",\"orange\"]\n",
    "explode = [0.1,0]"
   ]
  },
  {
   "cell_type": "code",
   "execution_count": 10,
   "metadata": {},
   "outputs": [
    {
     "data": {
      "text/plain": [
       "(-1.2076939577793158,\n",
       " 1.1101719390349558,\n",
       " -1.1065652022428258,\n",
       " 1.1003126286782299)"
      ]
     },
     "execution_count": 10,
     "metadata": {},
     "output_type": "execute_result"
    },
    {
     "data": {
      "image/png": "[encoded data removed]",
      "text/plain": [
       "<Figure size 432x288 with 1 Axes>"
      ]
     },
     "metadata": {},
     "output_type": "display_data"
    }
   ],
   "source": [
    "# create chart\n",
    "plt.pie(sex_num, explode=explode, labels=sex, colors=colors, autopct=\"%1.1f%%\", shadow=True, startangle=90)\n",
    "\n",
    "# add title to chart\n",
    "plt.title(\"Gender Breakdown Across All Mice\")\n",
    "\n",
    "# keeps circle proportionate\n",
    "plt.axis(\"equal\")"
   ]
  },
  {
   "cell_type": "markdown",
   "metadata": {},
   "source": [
    "## Quartiles, outliers and boxplots"
   ]
  },
  {
   "cell_type": "code",
   "execution_count": 11,
   "metadata": {},
   "outputs": [],
   "source": [
    "# THE BELOW CODE IS NOT USED BUT WAS MY INITIAL THOUGHT PROCESS FOR GROUPING THE DATA BY TIMEPOINT\n",
    "\n",
    "# # make new df to find final tumor vol per mouse\n",
    "# combined2 = combined[['Mouse ID', 'Drug Regimen', 'Timepoint','Tumor Volume (mm3)']]\n",
    "# # combined2.head()\n",
    "\n",
    "# # make index of mouse ID and find final tumor vol, make DF for it\n",
    "# combined2_rev = combined2.set_index(['Mouse ID'])\n",
    "# combined2_df = pd.DataFrame(combined2_rev.loc[combined2_rev['Timepoint'] == 45])\n",
    "# # combined2_df\n",
    "\n",
    "# # make new df for just Capomulin, Ramicane, Infubinol, and Ceftamin data (probably could have combined this\n",
    "# # and the last bit into one line or DF but it's easier for me to visualize this way)\n",
    "# array = ['Capomulin', 'Ramicane', 'Infubinol', 'Ceftamin']\n",
    "# tum_final_vol_df = combined2_df.loc[combined2_df['Drug Regimen'].isin(array)]\n",
    "# # tum_final_vol_df"
   ]
  },
  {
   "cell_type": "code",
   "execution_count": 12,
   "metadata": {},
   "outputs": [
    {
     "name": "stdout",
     "output_type": "stream",
     "text": [
      "The interquartile range and possible outliers for the final tumor volumes for each drug is as follows:\n",
      "Capomulin IQR - 7.314067135000002. Values below 26.714832162499995 and above 55.9711007025 could be outliers.\n",
      "Ramicane IQR - 8.325365415000007. Values below 24.18658646249998 and above 57.48804812250001 could be outliers.\n",
      "Infubinol IQR - 10.002090667500006. Values below 32.309217298749985 and above 72.31757996875001 could be outliers.\n",
      "Ceftamin IQR - 9.5930104575. Values below 32.818911426250004 and above 71.19095325625 could be outliers.\n"
     ]
    }
   ],
   "source": [
    "# # Calculate the final tumor volume of each mouse across four of the most promising treatment regimens. \n",
    "# # Calculate the IQR and quantitatively determine if there are any potential outliers. \n",
    "\n",
    "# Generate separate dataframes for each drug in order to plot results\n",
    "# Start by getting the last (greatest) timepoint for each mouse\n",
    "max_tumor = combined.groupby([\"Mouse ID\"]).max()\n",
    "max_tumor = max_tumor.reset_index()\n",
    "# Merge this group df with the original dataframe to get the tumor volume at the last timepoint\n",
    "merge_data = combined[['Mouse ID','Timepoint']].merge(combined,on=['Mouse ID','Timepoint'],how=\"left\")\n",
    "capomulin_df = merge_data.loc[merge_data[\"Drug Regimen\"]==\"Capomulin\"]['Tumor Volume (mm3)']\n",
    "ceftamin_df = merge_data.loc[merge_data[\"Drug Regimen\"]==\"Ceftamin\"]['Tumor Volume (mm3)']\n",
    "ramicane_df = merge_data.loc[merge_data[\"Drug Regimen\"]==\"Ramicane\"]['Tumor Volume (mm3)']\n",
    "infubinol_df = merge_data.loc[merge_data[\"Drug Regimen\"]==\"Infubinol\"]['Tumor Volume (mm3)']\n",
    "\n",
    "# finding IQR values for each drug - capomulin\n",
    "cap_finals = capomulin_df\n",
    "cap_quarts = cap_finals.quantile([.25,.5,.75])\n",
    "cap_lowerq = cap_quarts[0.25]\n",
    "cap_upperq = cap_quarts[0.75]\n",
    "cap_iqr = cap_upperq-cap_lowerq\n",
    "cap_lower_b = cap_lowerq - (1.5*cap_iqr)\n",
    "cap_upper_b = cap_upperq + (1.5*cap_iqr)\n",
    "\n",
    "# ramicane\n",
    "ram_finals = ramicane_df\n",
    "ram_quarts = ram_finals.quantile([.25,.5,.75])\n",
    "ram_lowerq = ram_quarts[0.25]\n",
    "ram_upperq = ram_quarts[0.75]\n",
    "ram_iqr = ram_upperq-ram_lowerq\n",
    "ram_lower_b = ram_lowerq - (1.5*ram_iqr)\n",
    "ram_upper_b = ram_upperq + (1.5*ram_iqr)\n",
    "\n",
    "# infubinol\n",
    "inf_finals = infubinol_df\n",
    "inf_quarts = inf_finals.quantile([.25,.5,.75])\n",
    "inf_lowerq = inf_quarts[0.25]\n",
    "inf_upperq = inf_quarts[0.75]\n",
    "inf_iqr = inf_upperq-inf_lowerq\n",
    "inf_lower_b = inf_lowerq - (1.5*inf_iqr)\n",
    "inf_upper_b = inf_upperq + (1.5*inf_iqr)\n",
    "\n",
    "# ceftamin\n",
    "cef_finals = ceftamin_df\n",
    "cef_quarts = cef_finals.quantile([.25,.5,.75])\n",
    "cef_lowerq = cef_quarts[0.25]\n",
    "cef_upperq = cef_quarts[0.75]\n",
    "cef_iqr = cef_upperq-cef_lowerq\n",
    "cef_lower_b = cef_lowerq - (1.5*cef_iqr)\n",
    "cef_upper_b = cef_upperq + (1.5*cef_iqr)\n",
    "\n",
    "# print findings\n",
    "print(f\"The interquartile range and possible outliers for the final tumor volumes for each drug is as follows:\")\n",
    "print(f\"Capomulin IQR - {cap_iqr}. Values below {cap_lower_b} and above {cap_upper_b} could be outliers.\") \n",
    "print(f\"Ramicane IQR - {ram_iqr}. Values below {ram_lower_b} and above {ram_upper_b} could be outliers.\")\n",
    "print(f\"Infubinol IQR - {inf_iqr}. Values below {inf_lower_b} and above {inf_upper_b} could be outliers.\")\n",
    "print(f\"Ceftamin IQR - {cef_iqr}. Values below {cef_lower_b} and above {cef_upper_b} could be outliers.\")\n"
   ]
  },
  {
   "cell_type": "code",
   "execution_count": 13,
   "metadata": {},
   "outputs": [
    {
     "data": {
      "image/png": "[encoded data removed]",
      "text/plain": [
       "<Figure size 432x288 with 1 Axes>"
      ]
     },
     "metadata": {
      "needs_background": "light"
     },
     "output_type": "display_data"
    }
   ],
   "source": [
    "# Generate a box plot of the final tumor volume of each mouse across four regimens of interest\n",
    "plt.boxplot([capomulin_df,ramicane_df,infubinol_df,ceftamin_df],labels=[\"Capomulin\",\"Ramicane\",\"Infubinol\",\"Ceftamin\"])\n",
    "plt.title('Final Tumor Volume by Drug Regimen')\n",
    "plt.xlabel('Drug Regimen')\n",
    "plt.ylabel('Final Tumor Volume (mm3)')\n",
    "plt.show()"
   ]
  },
  {
   "cell_type": "markdown",
   "metadata": {},
   "source": [
    "## Line and scatter plots"
   ]
  },
  {
   "cell_type": "code",
   "execution_count": 14,
   "metadata": {
    "scrolled": true
   },
   "outputs": [
    {
     "data": {
      "image/png": "[encoded data removed]",
      "text/plain": [
       "<Figure size 432x288 with 1 Axes>"
      ]
     },
     "metadata": {
      "needs_background": "light"
     },
     "output_type": "display_data"
    }
   ],
   "source": [
    "# Generate a line plot of time point versus tumor volume for a mouse treated with Capomulin\n",
    "mouse_group = combined.groupby([\"Mouse ID\"])\n",
    "mouse_group_df = pd.DataFrame({\n",
    "    \"Mouse ID\":combined[\"Mouse ID\"],\n",
    "    \"Timepoint\":combined[\"Timepoint\"],\n",
    "    \"Tumor Volume\":combined[\"Tumor Volume (mm3)\"]})\n",
    "# mouse_group_df\n",
    "\n",
    "s185_df = pd.DataFrame(mouse_group_df.loc[mouse_group_df[\"Mouse ID\"] == \"s185\"][\"Tumor Volume\"])\n",
    "# s185_df\n",
    "\n",
    "# set axes\n",
    "x_axis = [0,5,10,15,20,25,30,35,40,45]\n",
    "y_axis = s185_df[\"Tumor Volume\"]\n",
    "\n",
    "# line\n",
    "plt.plot(x_axis,y_axis)\n",
    "plt.title(\"Capomulin treatment of mouse s185\")\n",
    "plt.xlabel(\"Timepoint (days)\")\n",
    "plt.ylabel(\"Tumor Volume (mm3)\")\n",
    "plt.grid()\n",
    "plt.show()"
   ]
  },
  {
   "cell_type": "code",
   "execution_count": 16,
   "metadata": {},
   "outputs": [
    {
     "data": {
      "image/png": "[encoded data removed]",
      "text/plain": [
       "<Figure size 432x288 with 1 Axes>"
      ]
     },
     "metadata": {
      "needs_background": "light"
     },
     "output_type": "display_data"
    },
    {
     "name": "stdout",
     "output_type": "stream",
     "text": [
      "The correlation coefficient between weight and color tumor volume is 0.84\n"
     ]
    }
   ],
   "source": [
    "# Generate a scatter plot of mouse weight versus average tumor volume for the Capomulin regimen\n",
    "# make df for capomulin data\n",
    "capo_df2 = combined[combined[\"Drug Regimen\"] == \"Capomulin\"]\n",
    "\n",
    "# make new df to calculate mean vals\n",
    "capo_df3 = capo_df2.groupby([\"Mouse ID\",\"Weight (g)\"]).mean()[\"Tumor Volume (mm3)\"].to_frame()\n",
    "capo_df3 = capo_df3.reset_index()\n",
    "# capo_df3\n",
    "\n",
    "# assign axes to columns\n",
    "x_axis = capo_df3['Weight (g)']\n",
    "y_axis = capo_df3['Tumor Volume (mm3)']\n",
    "\n",
    "# Calculate the correlation coefficient and linear regression model for mouse weight and average tumor volume for the Capomulin regimen\n",
    "(slope, intercept, rvalue, pvalue, stderr) = linregress(x_axis, y_axis)\n",
    "regress_values = x_axis * slope + intercept\n",
    "line_eq = \"y = \" + str(round(slope,2)) + \"x + \" + str(round(intercept,2))\n",
    "plt.scatter(x_axis, y_axis)\n",
    "plt.plot(x_axis,regress_values,\"r-\")\n",
    "plt.annotate(line_eq,(6,10),fontsize=15,color=\"red\")\n",
    "plt.title(\"Capomulin Treatment: Tumor vs. Weight\")\n",
    "plt.xlabel(\"Weight (g)\")\n",
    "plt.ylabel(\"Average Tumor Volume\")\n",
    "plt.savefig(\"Regression.png\")\n",
    "plt.show()\n",
    "print(f\"The correlation coefficient between weight and color tumor volume is {round(st.pearsonr(x_axis,y_axis)[0],2)}\")\n",
    "\n",
    "\n",
    "\n"
   ]
  },
  {
   "cell_type": "code",
   "execution_count": null,
   "metadata": {},
   "outputs": [],
   "source": []
  },
  {
   "cell_type": "code",
   "execution_count": null,
   "metadata": {},
   "outputs": [],
   "source": []
  }
 ],
 "metadata": {
  "anaconda-cloud": {},
  "kernelspec": {
   "display_name": "Python 3",
   "language": "python",
   "name": "python3"
  },
  "language_info": {
   "codemirror_mode": {
    "name": "ipython",
    "version": 3
   },
   "file_extension": ".py",
   "mimetype": "text/x-python",
   "name": "python",
   "nbconvert_exporter": "python",
   "pygments_lexer": "ipython3",
   "version": "3.7.6"
  }
 },
 "nbformat": 4,
 "nbformat_minor": 2
}
